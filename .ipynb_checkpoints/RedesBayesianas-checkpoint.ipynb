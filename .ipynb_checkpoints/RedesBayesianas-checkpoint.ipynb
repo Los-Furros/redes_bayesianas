{
 "cells": [
  {
   "cell_type": "code",
   "execution_count": 1,
   "id": "a873eaac",
   "metadata": {},
   "outputs": [
    {
     "name": "stdout",
     "output_type": "stream",
     "text": [
      "Collecting pyAgrum\n",
      "  Downloading pyAgrum-1.1.0-cp38-cp38-manylinux2014_x86_64.whl (5.6 MB)\n",
      "\u001b[K     |████████████████████████████████| 5.6 MB 2.6 MB/s eta 0:00:01\n",
      "\u001b[?25hRequirement already satisfied: matplotlib in /mnt/c/TEC/OCTAVO_b/SISTEMAS/tareas/env-tareas/lib/python3.8/site-packages (from pyAgrum) (3.5.1)\n",
      "Requirement already satisfied: numpy in /mnt/c/TEC/OCTAVO_b/SISTEMAS/tareas/env-tareas/lib/python3.8/site-packages (from pyAgrum) (1.22.3)\n",
      "Collecting pydot\n",
      "  Downloading pydot-1.4.2-py2.py3-none-any.whl (21 kB)\n",
      "Requirement already satisfied: packaging>=20.0 in /mnt/c/TEC/OCTAVO_b/SISTEMAS/tareas/env-tareas/lib/python3.8/site-packages (from matplotlib->pyAgrum) (21.3)\n",
      "Requirement already satisfied: python-dateutil>=2.7 in /mnt/c/TEC/OCTAVO_b/SISTEMAS/tareas/env-tareas/lib/python3.8/site-packages (from matplotlib->pyAgrum) (2.8.2)\n",
      "Requirement already satisfied: cycler>=0.10 in /mnt/c/TEC/OCTAVO_b/SISTEMAS/tareas/env-tareas/lib/python3.8/site-packages (from matplotlib->pyAgrum) (0.11.0)\n",
      "Requirement already satisfied: pillow>=6.2.0 in /mnt/c/TEC/OCTAVO_b/SISTEMAS/tareas/env-tareas/lib/python3.8/site-packages (from matplotlib->pyAgrum) (9.1.0)\n",
      "Requirement already satisfied: kiwisolver>=1.0.1 in /mnt/c/TEC/OCTAVO_b/SISTEMAS/tareas/env-tareas/lib/python3.8/site-packages (from matplotlib->pyAgrum) (1.4.2)\n",
      "Requirement already satisfied: pyparsing>=2.2.1 in /mnt/c/TEC/OCTAVO_b/SISTEMAS/tareas/env-tareas/lib/python3.8/site-packages (from matplotlib->pyAgrum) (3.0.8)\n",
      "Requirement already satisfied: fonttools>=4.22.0 in /mnt/c/TEC/OCTAVO_b/SISTEMAS/tareas/env-tareas/lib/python3.8/site-packages (from matplotlib->pyAgrum) (4.32.0)\n",
      "Requirement already satisfied: six>=1.5 in /mnt/c/TEC/OCTAVO_b/SISTEMAS/tareas/env-tareas/lib/python3.8/site-packages (from python-dateutil>=2.7->matplotlib->pyAgrum) (1.16.0)\n",
      "Installing collected packages: pydot, pyAgrum\n",
      "Successfully installed pyAgrum-1.1.0 pydot-1.4.2\n",
      "Note: you may need to restart the kernel to use updated packages.\n"
     ]
    }
   ],
   "source": [
    "pip install pyAgrum"
   ]
  },
  {
   "cell_type": "markdown",
   "id": "719ed8a1",
   "metadata": {},
   "source": [
    "# Pregunta 1"
   ]
  },
  {
   "cell_type": "code",
   "execution_count": 1,
   "id": "e222fe06",
   "metadata": {},
   "outputs": [],
   "source": [
    "import pyAgrum as gum"
   ]
  },
  {
   "cell_type": "code",
   "execution_count": 2,
   "id": "59e1600d",
   "metadata": {},
   "outputs": [
    {
     "name": "stdout",
     "output_type": "stream",
     "text": [
      "\n",
      "  Cow6             |\n",
      "S        |H        |\n",
      "---------|---------|\n",
      " 0.0065  | 0.9935  |\n",
      "\n"
     ]
    }
   ],
   "source": [
    "# Initialize model\n",
    "model = gum.BayesNet('CowTest')\n",
    "\n",
    "# Define random variables\n",
    "c1_var = gum.LabelizedVariable('Cow1', 'Cow1', 2)\n",
    "c1_var.changeLabel(0, 'S')\n",
    "c1_var.changeLabel(1, 'H')\n",
    "\n",
    "c2_var = gum.LabelizedVariable('Cow2', 'Cow2', 2)\n",
    "c2_var.changeLabel(0, 'S')\n",
    "c2_var.changeLabel(1, 'H')\n",
    "\n",
    "c3_var = gum.LabelizedVariable('Cow3', 'Cow3', 2)\n",
    "c3_var.changeLabel(0, 'S')\n",
    "c3_var.changeLabel(1, 'H')\n",
    "\n",
    "c4_var = gum.LabelizedVariable('Cow4', 'Cow4', 2)\n",
    "c4_var.changeLabel(0, 'S')\n",
    "c4_var.changeLabel(1, 'H')\n",
    "\n",
    "c5_var = gum.LabelizedVariable('Cow5', 'Cow5', 2)\n",
    "c5_var.changeLabel(0, 'S')\n",
    "c5_var.changeLabel(1, 'H')\n",
    "\n",
    "c6_var = gum.LabelizedVariable('Cow6', 'Cow6', 2)\n",
    "c6_var.changeLabel(0, 'S')\n",
    "c6_var.changeLabel(1, 'H')\n",
    "\n",
    "t1_var = gum.LabelizedVariable('Test1', 'Test1', 2)\n",
    "t1_var.changeLabel(0, 'N')\n",
    "t1_var.changeLabel(1, 'P')\n",
    "\n",
    "t2_var = gum.LabelizedVariable('Test2', 'Test2', 2)\n",
    "t2_var.changeLabel(0, 'N')\n",
    "t2_var.changeLabel(1, 'P')\n",
    "\n",
    "t3_var = gum.LabelizedVariable('Test3', 'Test3', 2)\n",
    "t3_var.changeLabel(0, 'N')\n",
    "t3_var.changeLabel(1, 'P')\n",
    "\n",
    "t4_var = gum.LabelizedVariable('Test4', 'Test4', 2)\n",
    "t4_var.changeLabel(0, 'N')\n",
    "t4_var.changeLabel(1, 'P')\n",
    "\n",
    "t5_var = gum.LabelizedVariable('Test5', 'Test5', 2)\n",
    "t5_var.changeLabel(0, 'N')\n",
    "t5_var.changeLabel(1, 'P')\n",
    "\n",
    "t6_var = gum.LabelizedVariable('Test6', 'Test6', 2)\n",
    "t6_var.changeLabel(0, 'N')\n",
    "t6_var.changeLabel(1, 'P')\n",
    "\n",
    "# Build model\n",
    "c1 = model.add(c1_var)\n",
    "c2 = model.add(c2_var)\n",
    "c3 = model.add(c3_var)\n",
    "c4 = model.add(c4_var)\n",
    "c5 = model.add(c5_var)\n",
    "c6 = model.add(c6_var)\n",
    "\n",
    "t1 = model.add(t1_var)\n",
    "t2 = model.add(t2_var)\n",
    "t3 = model.add(t3_var)\n",
    "t4 = model.add(t4_var)\n",
    "t5 = model.add(t5_var)\n",
    "t6 = model.add(t6_var)\n",
    "\n",
    "model.addArc(c1, t1)\n",
    "model.addArc(c1, c2)\n",
    "\n",
    "model.addArc(c2, t2)\n",
    "model.addArc(c2, c3)\n",
    "\n",
    "model.addArc(c3, t3)\n",
    "model.addArc(c3, c4)\n",
    "\n",
    "model.addArc(c4, t4)\n",
    "model.addArc(c4, c5)\n",
    "\n",
    "model.addArc(c5, t5)\n",
    "model.addArc(c5, c6)\n",
    "\n",
    "model.addArc(c6, t6)\n",
    "\n",
    "# Define conditional probabilities\n",
    "\n",
    "model.cpt(c1)[:] = [0.1, 0.9]\n",
    "\n",
    "model.cpt(t1)[{'Cow1':'S'}] = [0.1, 0.9]\n",
    "model.cpt(t1)[{'Cow1':'H'}] = [0.9, 0.1]\n",
    "\n",
    "model.cpt(c2)[{'Cow1':'S'}] = [0.9, 0.1]\n",
    "model.cpt(c2)[{'Cow1':'H'}] = [0.05, 0.95]\n",
    "\n",
    "model.cpt(t2)[{'Cow2':'S'}] = [0.1, 0.9]\n",
    "model.cpt(t2)[{'Cow2':'H'}] = [0.9, 0.1]\n",
    "\n",
    "model.cpt(c3)[{'Cow2':'S'}] = [0.9, 0.1]\n",
    "model.cpt(c3)[{'Cow2':'H'}] = [0.05, 0.95]\n",
    "\n",
    "model.cpt(t3)[{'Cow3':'S'}] = [0.1, 0.9]\n",
    "model.cpt(t3)[{'Cow3':'H'}] = [0.9, 0.1]\n",
    "\n",
    "model.cpt(c4)[{'Cow3':'S'}] = [0.9, 0.1]\n",
    "model.cpt(c4)[{'Cow3':'H'}] = [0.05, 0.95]\n",
    "\n",
    "model.cpt(t4)[{'Cow4':'S'}] = [0.1, 0.9]\n",
    "model.cpt(t4)[{'Cow4':'H'}] = [0.9, 0.1]\n",
    "\n",
    "model.cpt(c5)[{'Cow4':'S'}] = [0.9, 0.1]\n",
    "model.cpt(c5)[{'Cow4':'H'}] = [0.05, 0.95]\n",
    "\n",
    "model.cpt(t5)[{'Cow5':'S'}] = [0.1, 0.9]\n",
    "model.cpt(t5)[{'Cow5':'H'}] = [0.9, 0.1]\n",
    "\n",
    "model.cpt(c6)[{'Cow5':'S'}] = [0.9, 0.1]\n",
    "model.cpt(c6)[{'Cow5':'H'}] = [0.05, 0.95]\n",
    "\n",
    "model.cpt(t6)[{'Cow6':'S'}] = [0.1, 0.9]\n",
    "model.cpt(t6)[{'Cow6':'H'}] = [0.9, 0.1]\n",
    "\n",
    "# Make inference\n",
    "ie=gum.LazyPropagation(model)\n",
    "ie.makeInference()\n",
    "\n",
    "ie.setEvidence({'Test1':'N', 'Test2':'N', 'Test3':'N', 'Test4':'N', 'Test5':'N', 'Test6':'N'})\n",
    "ie.addTarget(c6)\n",
    "print(ie.posterior(c6))"
   ]
  },
  {
   "cell_type": "markdown",
   "id": "0121f7c1",
   "metadata": {},
   "source": [
    "# Pregunta 2"
   ]
  },
  {
   "cell_type": "code",
   "execution_count": 3,
   "id": "97401c7f",
   "metadata": {},
   "outputs": [],
   "source": [
    "\n",
    "# Initialize model\n",
    "model = gum.BayesNet('Admision')"
   ]
  },
  {
   "cell_type": "code",
   "execution_count": 4,
   "id": "ce8e63c2",
   "metadata": {},
   "outputs": [],
   "source": [
    "# Define burglary variable\n",
    "examlevel_var = gum.LabelizedVariable('ExamLevel', 'ExamLevel', 2)\n",
    "examlevel_var.changeLabel(0, 'easy')\n",
    "examlevel_var.changeLabel(1, 'difficult')\n",
    "\n",
    "\n",
    "# Define earthquake variable\n",
    "iq_var = gum.LabelizedVariable('IQ', 'IQ', 2)\n",
    "iq_var.changeLabel(0, 'low')\n",
    "iq_var.changeLabel(1, 'high')\n",
    "\n",
    "\n",
    "# Define alarm variable\n",
    "apt_var = gum.LabelizedVariable('Aptitud', 'Aptitud', 2)\n",
    "apt_var.changeLabel(0, 'low')\n",
    "apt_var.changeLabel(1, 'high')\n",
    "\n",
    "\n",
    "# Define John variable\n",
    "examscore_var = gum.LabelizedVariable('ExamScore', 'ExamScore', 2)\n",
    "examscore_var.changeLabel(0, 'low')\n",
    "examscore_var.changeLabel(1, 'high')\n",
    "\n",
    "\n",
    "# Define Mary variable\n",
    "adm_result_var = gum.LabelizedVariable('AdmisionResult', 'AdmisionResult', 2)\n",
    "adm_result_var.changeLabel(0, 'accepted')\n",
    "adm_result_var.changeLabel(1, 'rejected')"
   ]
  },
  {
   "cell_type": "code",
   "execution_count": 5,
   "id": "287694dd",
   "metadata": {},
   "outputs": [],
   "source": [
    "# Build model\n",
    "examlevel = model.add(examlevel_var)\n",
    "iq = model.add(iq_var)\n",
    "apt = model.add(apt_var)\n",
    "examscore = model.add(examscore_var)\n",
    "adm_result = model.add(adm_result_var)"
   ]
  },
  {
   "cell_type": "code",
   "execution_count": 6,
   "id": "f7b86dd3",
   "metadata": {},
   "outputs": [],
   "source": [
    "model.addArc(examlevel, examscore)\n",
    "model.addArc(iq, examscore)\n",
    "model.addArc(examscore, adm_result)\n",
    "model.addArc(iq, apt)"
   ]
  },
  {
   "cell_type": "code",
   "execution_count": 7,
   "id": "84279787",
   "metadata": {},
   "outputs": [],
   "source": [
    "# Define conditional probabilities\n",
    "\n",
    "model.cpt(examlevel)[:] = [0.7, 0.3] \n",
    "\n",
    "\n",
    "model.cpt(iq)[:] = [0.8, 0.2] "
   ]
  },
  {
   "cell_type": "code",
   "execution_count": 8,
   "id": "231c4d7d",
   "metadata": {},
   "outputs": [],
   "source": [
    "# p(A | B, E)\n",
    "model.cpt(examscore)[{'IQ':'low', 'ExamLevel':'easy'}] = [0.6, 0.4] # p(A = F| B = T, E = T), p(A = T| B = T, E = T)\n",
    "\n",
    "model.cpt(examscore)[{'IQ':'low', 'ExamLevel':'difficult'}] = [0.9, 0.1] # p(A = F| B = T, E = F), p(A = T| B = T, E = F)\n",
    "\n",
    "model.cpt(examscore)[{'IQ':'high', 'ExamLevel':'easy'}] = [0.5, 0.5] # p(A = F| B = F, E = T), p(A = T| B = F, E = T)\n",
    "\n",
    "model.cpt(examscore)[{'IQ':'high', 'ExamLevel':'difficult'}] = [0.8, 0.2] # p(A = F| B = F, E = F), p(A = T| B = F, E = F)"
   ]
  },
  {
   "cell_type": "code",
   "execution_count": 9,
   "id": "ba41ae5e",
   "metadata": {},
   "outputs": [],
   "source": [
    "# p(J | A)\n",
    "model.cpt(apt)[{'IQ':'low'}] = [0.75, 0.25] # p(J = F| A = T), p(J = T| A = T)\n",
    "model.cpt(apt)[{'IQ':'high'}] = [0.4, 0.6] # p(J = F| A = T), p(J = T| A = T)\n",
    "\n",
    "\n",
    "# p(M | A)\n",
    "model.cpt(adm_result)[{'ExamScore':'low'}] = [0.6, 0.4] # p(J = F| A = T), p(J = T| A = T)\n",
    "model.cpt(adm_result)[{'ExamScore':'high'}] = [0.9, 0.1] # p(J = F| A = T), p(J = T| A = T)"
   ]
  },
  {
   "cell_type": "code",
   "execution_count": 10,
   "id": "7a7de721",
   "metadata": {},
   "outputs": [],
   "source": [
    "# Make inference\n",
    "ie=gum.LazyPropagation(model)\n",
    "ie.makeInference()"
   ]
  },
  {
   "cell_type": "code",
   "execution_count": 11,
   "id": "13ccdb74",
   "metadata": {},
   "outputs": [
    {
     "name": "stdout",
     "output_type": "stream",
     "text": [
      "\n",
      "Distribución conjunta\n",
      "\n",
      "                           ||  IQ               |\n",
      "ExamLe|ExamSc|Admisi|Aptitu||low      |high     |\n",
      "------|------|------|------||---------|---------|\n",
      "easy  |low   |accept|low   || 0.1512  | 0.0168  |\n",
      "diffic|low   |accept|low   || 0.0972  | 0.0115  |\n",
      "easy  |high  |accept|low   || 0.1512  | 0.0252  |\n",
      "diffic|high  |accept|low   || 0.0162  | 0.0043  |\n",
      "easy  |low   |reject|low   || 0.1008  | 0.0112  |\n",
      "diffic|low   |reject|low   || 0.0648  | 0.0077  |\n",
      "[...4 more line(s) ...]\n",
      "easy  |high  |accept|high  || 0.0504  | 0.0378  |\n",
      "diffic|high  |accept|high  || 0.0054  | 0.0065  |\n",
      "easy  |low   |reject|high  || 0.0336  | 0.0168  |\n",
      "diffic|low   |reject|high  || 0.0216  | 0.0115  |\n",
      "easy  |high  |reject|high  || 0.0056  | 0.0042  |\n",
      "diffic|high  |reject|high  || 0.0006  | 0.0007  |\n",
      "\n"
     ]
    }
   ],
   "source": [
    "print('\\nDistribución conjunta')\n",
    "ie.addJointTarget({examlevel, iq, apt, examscore, adm_result})\n",
    "print(ie.jointPosterior({examlevel, iq, apt, examscore, adm_result}))"
   ]
  },
  {
   "cell_type": "code",
   "execution_count": 12,
   "id": "d0b5b71f",
   "metadata": {},
   "outputs": [
    {
     "name": "stdout",
     "output_type": "stream",
     "text": [
      "IQ DADO QUE FUE ACEPTADO\n",
      "\n",
      "  IQ               |\n",
      "low      |high     |\n",
      "---------|---------|\n",
      " 0.7931  | 0.2069  |\n",
      "\n"
     ]
    }
   ],
   "source": [
    "\n",
    "print(\"IQ DADO QUE FUE ACEPTADO\")\n",
    "ie.setEvidence({'AdmisionResult': 'accepted'})\n",
    "ie.addTarget(iq)\n",
    "print(ie.posterior(iq))"
   ]
  },
  {
   "cell_type": "code",
   "execution_count": 13,
   "id": "5281d2c8",
   "metadata": {},
   "outputs": [],
   "source": [
    "# Make inference\n",
    "ie2=gum.LazyPropagation(model)\n",
    "ie2.makeInference()"
   ]
  },
  {
   "cell_type": "code",
   "execution_count": 14,
   "id": "ebfe8eb9",
   "metadata": {},
   "outputs": [
    {
     "name": "stdout",
     "output_type": "stream",
     "text": [
      "Probabilidad de ser aceptado\n",
      "\n",
      "  AdmisionResult   |\n",
      "accepted |rejected |\n",
      "---------|---------|\n",
      " 0.6990  | 0.3010  |\n",
      "\n"
     ]
    }
   ],
   "source": [
    "print('Probabilidad de ser aceptado')\n",
    "ie2.addTarget(adm_result)\n",
    "print(ie2.posterior(adm_result))"
   ]
  },
  {
   "cell_type": "code",
   "execution_count": 15,
   "id": "c94ad24b",
   "metadata": {},
   "outputs": [],
   "source": [
    "# Make inference\n",
    "ie3=gum.LazyPropagation(model)\n",
    "ie3.makeInference()"
   ]
  },
  {
   "cell_type": "code",
   "execution_count": 16,
   "id": "c6fcf52d",
   "metadata": {},
   "outputs": [
    {
     "name": "stdout",
     "output_type": "stream",
     "text": [
      "Probabilidad de ser aceptado dado una calificación baja en el examen de aptitud\n",
      "\n",
      "  AdmisionResult   |\n",
      "accepted |rejected |\n",
      "---------|---------|\n",
      " 0.6965  | 0.3035  |\n",
      "\n"
     ]
    }
   ],
   "source": [
    "print(\"Probabilidad de ser aceptado dado una calificación baja en el examen de aptitud\")\n",
    "ie.setEvidence({'Aptitud': 'low'})\n",
    "ie.addTarget(adm_result)\n",
    "print(ie.posterior(adm_result))"
   ]
  }
 ],
 "metadata": {
  "kernelspec": {
   "display_name": "Python 3 (ipykernel)",
   "language": "python",
   "name": "python3"
  },
  "language_info": {
   "codemirror_mode": {
    "name": "ipython",
    "version": 3
   },
   "file_extension": ".py",
   "mimetype": "text/x-python",
   "name": "python",
   "nbconvert_exporter": "python",
   "pygments_lexer": "ipython3",
   "version": "3.8.10"
  }
 },
 "nbformat": 4,
 "nbformat_minor": 5
}
